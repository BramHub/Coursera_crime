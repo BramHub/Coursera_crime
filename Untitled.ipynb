{
 "cells": [
  {
   "cell_type": "markdown",
   "metadata": {},
   "source": [
    "# Public sentiment towards law enforcement - a between city compasion\n",
    "## Using cases of assault against an officer as indication of public attitude"
   ]
  },
  {
   "cell_type": "markdown",
   "metadata": {},
   "source": [
    "## Primary findings\n",
    " 1. The proportion of incidents involving a civilian with an officer of the law does not differ much between the cities. \n",
    " 2. The overal distribution of assaults over the day is roughly the same for the two cities. \n",
    " 3. The reported level of violence in the encounters seems to be much higher in San Francisco than in Seattle, which could be a real effect, but could also be a discrepancy in labeling cases.\n"
   ]
  },
  {
   "cell_type": "markdown",
   "metadata": {},
   "source": [
    "## Introduction\n",
    "The relationship between the American public and law enforcement has always been a delicate one. However, the last few years the issue became a nation-wide issue due to a number of police killings and the disappropiate amount of black people and other minorities among those killed. See [this dashboard of the Guardian](https://www.theguardian.com/us-news/ng-interactive/2015/jun/01/the-counted-police-killings-us-database) for an excelent overview of the victims of police violence. \n",
    "\n",
    "One of the explainations of the willingness of police to use high levels of violence against civilians and suspects is the level of aggression the police encounters from civilians against officers. The resulting 'It's either him or me'-attitude within the police mentality would lead to more hostility within the interaction and faster escalation of aggresive situations.  \n",
    "\n",
    "Both Seattle and San Francisco are known as very liberal and progressive cities, but with distinct cultures and an differing history of crime rates, gang-related and homelessness-related problems. For this investigation I want to investigate whether the public sentiment towards law enforcement differs between these two cities, and more specifically, whether the levels of aggression from civilians towards officers differ."
   ]
  },
  {
   "cell_type": "markdown",
   "metadata": {},
   "source": [
    "## Analysis\n",
    "To answer this question, I chose to limit the comparison to assault-related (bodily, person to person) indicents, as these are available in both datasets in significant numbers. This also enables me to compare within a single city between civilian<>civilian incidents and civilian<>officer incidents, and in this way get a percentage of police-directed incidents as function of the total number of assault-related incidents. This makes it easier to compare between cities than simply using the total number of cases.\n",
    "\n",
    "To get a little more indepth overview of our problem, I also would like to extent the analysis to include the level of violence, and the time of the incidents.\n",
    "\n",
    "So lets get started:\n",
    "\n",
    "\n",
    "### Load data "
   ]
  },
  {
   "cell_type": "code",
   "execution_count": 66,
   "metadata": {},
   "outputs": [],
   "source": [
    "# Load packages\n",
    "  if (!require(\"pacman\")) install.packages(\"pacman\")\n",
    "  pacman::p_load(tidyverse, stringr, lubridate)"
   ]
  },
  {
   "cell_type": "code",
   "execution_count": 67,
   "metadata": {
    "collapsed": true
   },
   "outputs": [],
   "source": [
    "# Load functions\n",
    "    # Multiplot -> Multiple graphs on one page, dependency: library(ggplot2)\n",
    "    # Source: http://www.cookbook-r.com/Graphs/Multiple_graphs_on_one_page_(ggplot2)/\n",
    "    source(\"multiplot.r\")"
   ]
  },
  {
   "cell_type": "code",
   "execution_count": 68,
   "metadata": {
    "collapsed": true,
    "scrolled": true
   },
   "outputs": [],
   "source": [
    "# Load data\n",
    "    sf <- read_csv('sanfrancisco_incidents_summer_2014.csv', col_types = cols())\n",
    "    se  <- read_csv('seattle_incidents_summer_2014.csv', col_types = cols())\n",
    "    # Convert column names to syntactically valid names (ex. removes spaces, replaces them with dot)\n",
    "    names(se) <- make.names(names(se), unique=TRUE)\n",
    "    names(sf) <- make.names(names(sf), unique=TRUE)"
   ]
  },
  {
   "cell_type": "markdown",
   "metadata": {},
   "source": [
    "### Data preperation / Feature Engineering\n",
    "\n",
    "We have to get an overview of the total number of assault-related incidents and make a distinction between civilian<>civilian incidents and civilian<>officer incidents. Since the encoding of assault-related encouters differs between the two datasets, some data preperation & feature engineering is necessary:\n",
    "\n",
    "#### Which cases count as (bodily, person to person) assault: \n",
    "\n",
    "   For Seattle, offences descripted as 'ASSAULT' seem to cover the cases. However, these also include Drive-By and Endangerment:\t"
   ]
  },
  {
   "cell_type": "code",
   "execution_count": 69,
   "metadata": {},
   "outputs": [
    {
     "data": {
      "text/html": [
       "<table>\n",
       "<thead><tr><th scope=col>Summarized.Offense.Description</th><th scope=col>Offense.Type</th><th scope=col>n</th></tr></thead>\n",
       "<tbody>\n",
       "\t<tr><td>ASSAULT                   </td><td>ASSLT-AGG-BODYFORCE       </td><td> 140                      </td></tr>\n",
       "\t<tr><td>ASSAULT                   </td><td>ASSLT-AGG-GUN             </td><td>  53                      </td></tr>\n",
       "\t<tr><td>ASSAULT                   </td><td>ASSLT-AGG-POLICE-BODYFORCE</td><td>   4                      </td></tr>\n",
       "\t<tr><td>ASSAULT                   </td><td>ASSLT-AGG-POLICE-GUN      </td><td>   4                      </td></tr>\n",
       "\t<tr><td>ASSAULT                   </td><td>ASSLT-AGG-POLICE-WEAPON   </td><td>   6                      </td></tr>\n",
       "\t<tr><td>ASSAULT                   </td><td>ASSLT-AGG-WEAPON          </td><td> 421                      </td></tr>\n",
       "\t<tr><td>ASSAULT                   </td><td>ASSLT-NONAGG              </td><td>1320                      </td></tr>\n",
       "\t<tr><td>ASSAULT                   </td><td>ASSLT-NONAGG-POLICE       </td><td>  48                      </td></tr>\n",
       "\t<tr><td>ASSAULT                   </td><td>DRIVE-BY                  </td><td>  15                      </td></tr>\n",
       "\t<tr><td>ASSAULT                   </td><td>ENDANGERMENT              </td><td>   7                      </td></tr>\n",
       "</tbody>\n",
       "</table>\n"
      ],
      "text/latex": [
       "\\begin{tabular}{r|lll}\n",
       " Summarized.Offense.Description & Offense.Type & n\\\\\n",
       "\\hline\n",
       "\t ASSAULT                    & ASSLT-AGG-BODYFORCE        &  140                      \\\\\n",
       "\t ASSAULT                    & ASSLT-AGG-GUN              &   53                      \\\\\n",
       "\t ASSAULT                    & ASSLT-AGG-POLICE-BODYFORCE &    4                      \\\\\n",
       "\t ASSAULT                    & ASSLT-AGG-POLICE-GUN       &    4                      \\\\\n",
       "\t ASSAULT                    & ASSLT-AGG-POLICE-WEAPON    &    6                      \\\\\n",
       "\t ASSAULT                    & ASSLT-AGG-WEAPON           &  421                      \\\\\n",
       "\t ASSAULT                    & ASSLT-NONAGG               & 1320                      \\\\\n",
       "\t ASSAULT                    & ASSLT-NONAGG-POLICE        &   48                      \\\\\n",
       "\t ASSAULT                    & DRIVE-BY                   &   15                      \\\\\n",
       "\t ASSAULT                    & ENDANGERMENT               &    7                      \\\\\n",
       "\\end{tabular}\n"
      ],
      "text/markdown": [
       "\n",
       "Summarized.Offense.Description | Offense.Type | n | \n",
       "|---|---|---|---|---|---|---|---|---|---|\n",
       "| ASSAULT                    | ASSLT-AGG-BODYFORCE        |  140                       | \n",
       "| ASSAULT                    | ASSLT-AGG-GUN              |   53                       | \n",
       "| ASSAULT                    | ASSLT-AGG-POLICE-BODYFORCE |    4                       | \n",
       "| ASSAULT                    | ASSLT-AGG-POLICE-GUN       |    4                       | \n",
       "| ASSAULT                    | ASSLT-AGG-POLICE-WEAPON    |    6                       | \n",
       "| ASSAULT                    | ASSLT-AGG-WEAPON           |  421                       | \n",
       "| ASSAULT                    | ASSLT-NONAGG               | 1320                       | \n",
       "| ASSAULT                    | ASSLT-NONAGG-POLICE        |   48                       | \n",
       "| ASSAULT                    | DRIVE-BY                   |   15                       | \n",
       "| ASSAULT                    | ENDANGERMENT               |    7                       | \n",
       "\n",
       "\n"
      ],
      "text/plain": [
       "   Summarized.Offense.Description Offense.Type               n   \n",
       "1  ASSAULT                        ASSLT-AGG-BODYFORCE         140\n",
       "2  ASSAULT                        ASSLT-AGG-GUN                53\n",
       "3  ASSAULT                        ASSLT-AGG-POLICE-BODYFORCE    4\n",
       "4  ASSAULT                        ASSLT-AGG-POLICE-GUN          4\n",
       "5  ASSAULT                        ASSLT-AGG-POLICE-WEAPON       6\n",
       "6  ASSAULT                        ASSLT-AGG-WEAPON            421\n",
       "7  ASSAULT                        ASSLT-NONAGG               1320\n",
       "8  ASSAULT                        ASSLT-NONAGG-POLICE          48\n",
       "9  ASSAULT                        DRIVE-BY                     15\n",
       "10 ASSAULT                        ENDANGERMENT                  7"
      ]
     },
     "metadata": {},
     "output_type": "display_data"
    }
   ],
   "source": [
    "se %>% filter(Summarized.Offense.Description == 'ASSAULT') %>% count(Summarized.Offense.Description, Offense.Type)"
   ]
  },
  {
   "cell_type": "markdown",
   "metadata": {},
   "source": [
    "which need to be excluded.\n",
    "\n",
    "For San Francisco the number of categories and descriptions is even larger. From these I decided to include cases involving  Assault, Attempted homicide, Battery and Mayhem, as these involve person-to-person bodily assault. *However, as I have an non-American (and non-judicial) background, some of these might be inappropriately included. \n",
    "\n",
    "\n",
    "#### Make distinction between violence against officer or against civilian\n",
    "This one is quite straightforward: Within the Seattle set, cases involving police have POLICE included in the Offence Type. In the SF set these cases have the word OFFICER included.\n",
    "\n",
    "\n",
    "#### About the level of violence used: Non-Aggravated vs. Aggravated\n",
    "To get some indication of the level of violence used, a distinction between Aggravated and Non-Aggravated incidents can be used. To quote [wikipedia](https://en.wikipedia.org/wiki/Aggravation_(law)): *Aggravated assault, for example, is usually differentiated from simple assault by the offender's intent (e.g., to murder or to rape), the extent of injury to the victim, or the use of a deadly weapon.\n",
    "\n",
    "In cases of assault both sets include terms for Aggravated. For the S.F. set, in cases of battery, mayham and att. homicide, I labeled them as Aggravated, since the terms themselves imply a high level of (intended) injury.\n",
    "\n",
    "\n",
    "#### Time of the incident\n",
    "To get an overview of the timings of the incidents, I extract the hour. In the case of the SF set, it can be directly extracted from the column Time. For the Seattle set, it takes some extra steps, as the Date.Reported field is encoded as a character string.\n",
    "\n",
    "\n",
    "After creating these features, I combine both sets into a new 'Assault' set, which can be used for the subsequent analyses and visualisations.\n",
    "\n",
    "\n",
    "#### The Data preperation in code:"
   ]
  },
  {
   "cell_type": "code",
   "execution_count": 70,
   "metadata": {
    "collapsed": true
   },
   "outputs": [],
   "source": [
    "## Data preperation / Feature Engineering\n",
    "\n",
    "# San Francisco\n",
    "sf_assault <- sf %>%\n",
    "   # Select columns of interest: for now, take all\n",
    "   select(everything()) %>%\n",
    "   # Filter cases which count as (bodily) assault\n",
    "   filter(str_detect(Descript, 'ASSAULT|ATTEMPTED HOMICIDE|BATTERY|MAYHEM')) %>%\n",
    "   # Add city name (for combined set)\n",
    "   mutate(City = \"San Francisco\") %>%\n",
    "   # Make distinction between violence against officer or against civilian: save as new column 'Officer'\n",
    "   mutate(Officer = as.factor(ifelse(str_detect(Descript, 'OFFICER'),1,0))) %>%\n",
    "   # Make distinction between level of violence: save as new column 'Aggravated'\n",
    "   mutate(Aggravated = as.factor(ifelse(str_detect(Descript, 'AGGRAVATED|ATTEMPTED HOMICIDE|BATTERY|MAYHEM|DEADLY WEAPON'),1,0))) %>%\n",
    "   # Extract Hour from column Time\n",
    "   mutate(Hour = hour(Time))\n",
    "\n",
    "# Seattle\n",
    "se_assault <- se %>%\n",
    "   # Select columns of interest: for now, take all\n",
    "   select(everything()) %>%\n",
    "   # Filter cases which count as (bodily) assault: All summarized as Assault, excluding Drive-By and Endangerment\n",
    "   filter(str_detect(Summarized.Offense.Description, 'ASSAULT') & !(str_detect(Offense.Type, 'DRIVE-BY|ENDANGERMENT'))) %>%\n",
    "   # Add city name (for combined set)\n",
    "   mutate(City = \"Seattle\") %>%\n",
    "   # Make distinction between violence against officer or against civilian: save as new column 'Officer'\n",
    "   mutate(Officer = as.factor(ifelse(str_detect(Offense.Type, 'POLICE'),1,0))) %>%\n",
    "   # Make distinction between level of violence: save as new column 'Aggravated'\n",
    "   mutate(Aggravated = as.factor(ifelse(str_detect(Offense.Type, 'NONAGG'),0,1))) %>%\n",
    "   # Extract Hour from column Date.Reported\n",
    "   mutate(Hour = ifelse(str_detect(Date.Reported, 'PM'),11 + as.integer(str_sub(Date.Reported, 12, 13)), as.integer(str_sub(Date.Reported, 12, 13)) - 1))\n",
    "\n",
    "\n",
    "# Combine data-sets, include only relevant columns\n",
    "assault <- bind_rows(\n",
    "   select(se_assault, City, Hour, Description = Summarized.Offense.Description, Description2 = Offense.Type, Officer, Aggravated),\n",
    "   select(sf_assault, City, Hour, Description = Category, Description2 = Descript, Officer, Aggravated)\n",
    "   )\n",
    "\n",
    "# Labels for factors\n",
    "   levels(assault$Officer) <- c(\"Civilian<>Civilian\",\"Civilian<>Officer\") \n",
    "   levels(assault$Aggravated) <- c(\"Non-Aggravated\",\"Aggravated\") \n"
   ]
  },
  {
   "cell_type": "markdown",
   "metadata": {},
   "source": [
    "## Results\n",
    "\n",
    "#### Assault against an officer"
   ]
  },
  {
   "cell_type": "code",
   "execution_count": 71,
   "metadata": {},
   "outputs": [
    {
     "data": {
      "image/png": "[encoded data removed]",
      "text/plain": [
       "plot without title"
      ]
     },
     "metadata": {},
     "output_type": "display_data"
    }
   ],
   "source": [
    "# Stacked bar graph\n",
    "p1 <- \n",
    "assault %>%    # Choose data to use\n",
    "   count(City, Officer) %>%    # Count cases\n",
    "   mutate(Count = n, Incidents = Officer) %>%   # Clarification - create variables with clearer names\n",
    "   ggplot(aes(x=City, y=Count, fill=Incidents, order=desc(Incidents))) +    # Create plot\n",
    "      geom_bar(stat=\"identity\") +\n",
    "      guides(fill=FALSE) + \n",
    "      geom_text(aes(label=Count), vjust=1, colour=\"darkblue\") +\n",
    "      labs(title=\"Assault-related incidents per city\",\n",
    "        subtitle=\"Total amount of incidents per group\") \n",
    "\n",
    "# Proportional stacked bar graph\n",
    "p2 <- \n",
    "assault %>%    # Choose data to use\n",
    "   mutate(Incidents = Officer) %>%   # Clarification - create variables with clearer names\n",
    "   group_by(City,Incidents) %>%  # Grouping\n",
    "   summarise (Count = n()) %>%  # Counting incidents\n",
    "   mutate(freq = Count / sum(Count)) %>%   # Calculate frequencies\n",
    "   ggplot(aes(x=City, y=freq, fill=Incidents, order=desc(Incidents))) +    # Create plot\n",
    "   geom_bar(stat=\"identity\") +\n",
    "   guides(fill=guide_legend(reverse=FALSE)) +\n",
    "   geom_text(aes(label=round(freq,digits = 3)), vjust=1, colour=\"darkblue\") +\n",
    "   labs(title=\" \",\n",
    "        subtitle=\"Proportion of incidents\") +\n",
    "   theme(plot.background = element_rect(fill = \"transparent\", colour = NA))\n",
    "\n",
    "multiplot(p1, p2, layout=matrix(c(1,1,2,2,2), nrow=1, byrow=FALSE))"
   ]
  },
  {
   "cell_type": "markdown",
   "metadata": {},
   "source": [
    "The left graph shows that the total number of incidents is a bit higher in Seattle than in San Francisco. However, from this picture it's not instantly clear in which city the number of officer related incidents is higher. \n",
    "\n",
    "The right graph shows a proportionally stacked bar graph. Here we see that the proportion of incidents involving officers is higher in Seattle (3,1%) than in S.F. (2,8%). However, the differences are quite small, so it is too early to draw a clear conclusion from this.\n",
    "\n",
    "\n",
    "#### Level of violence"
   ]
  },
  {
   "cell_type": "code",
   "execution_count": 72,
   "metadata": {},
   "outputs": [
    {
     "data": {},
     "metadata": {},
     "output_type": "display_data"
    },
    {
     "data": {
      "image/png": "[encoded data removed]",
      "text/plain": [
       "plot without title"
      ]
     },
     "metadata": {},
     "output_type": "display_data"
    }
   ],
   "source": [
    "# Level of violence\n",
    "ggplot(assault, aes(Officer)) +\n",
    "   geom_bar(aes(fill=Aggravated), position = \"dodge\", width = 0.5) +\n",
    "   facet_grid(. ~ City) +\n",
    "   scale_fill_manual(values=c(\"deepskyblue\", \"red\")) +\n",
    "   theme(axis.text.x = element_text(angle=65, vjust=0.6)) +\n",
    "   labs(title=\"Level of violence\",\n",
    "        subtitle=\"An indication of the level of (intended) injury.\")"
   ]
  },
  {
   "cell_type": "markdown",
   "metadata": {},
   "source": [
    "Here are clear differences between both cities. The level of violence seems to be much higher in San Francisco than in Seattle. In cases of violence against an officer it's always labeled as 'aggravated\", but also the violence between civilians seems to be of a higher order. Perhaps this is an effect of gang related crimes (unfortunately not visible in the dataset), but it could also be a consequence of a different protocol of labeling cases by the police corps.\n",
    "\n",
    "\n",
    "\n",
    "#### Time of the incidents\n",
    "*note: this last section is not hard science (not even by far), but I thought it might be nice to show*\n",
    "\n",
    "The moment of the incident may give some indication of the background of the incident. Incidents around closing time of bars might imply drunks fighting one another, or in case when law enforcement is around, with mister Officer. Day-time and deep-nighttime incidents might indicate more professional or gang-related violence, while around diner-hours this might imply domestic problems. \n",
    "\n",
    "Well, enough speculation, let's see if there are any patterns visible:\n"
   ]
  },
  {
   "cell_type": "code",
   "execution_count": 73,
   "metadata": {},
   "outputs": [
    {
     "data": {},
     "metadata": {},
     "output_type": "display_data"
    },
    {
     "data": {
      "image/png": "[encoded data removed]",
      "text/plain": [
       "plot without title"
      ]
     },
     "metadata": {},
     "output_type": "display_data"
    }
   ],
   "source": [
    "# Time of day\n",
    "assault %>%    # Choose data to use\n",
    "   mutate(Incidents = Officer) %>%   # Clarification - create variables with clearer names\n",
    "   group_by(City, Hour, Incidents) %>%  # Grouping\n",
    "   summarise (Count = n()) %>%  # Counting incidents\n",
    "   ggplot(aes(x=Hour, y=Count, fill=Incidents, order=desc(Incidents))) +    # Create plot\n",
    "      geom_bar(stat=\"identity\") +\n",
    "      coord_flip() +\n",
    "      scale_x_reverse() +\n",
    "      facet_grid(.~City) +\n",
    "      guides(fill=guide_legend(reverse=FALSE)) +\n",
    "      labs(title=\"Time of incidents\",\n",
    "           subtitle=\"Number of incidents per hour\")"
   ]
  },
  {
   "cell_type": "markdown",
   "metadata": {},
   "source": [
    "The main thing that is noticeable is that the overal distribution of assaults over the day is roughly the same for the two cities. Seattle has some peaks, at 2:00 and 20:00, but as the size of the overall set is not that big, this could be a trend as well as coincidence.\n",
    "\n",
    "The attacks on officers are spread out evenly over the day. The counts per hour become so low that it is nearly imposible to distinguish some distribution. However, the hours that have the most Civilian to Civilian incidents, also seem to have an higher number of Civilian to Officer incidents."
   ]
  }
 ],
 "metadata": {
  "kernelspec": {
   "display_name": "R",
   "language": "R",
   "name": "ir"
  },
  "language_info": {
   "codemirror_mode": "r",
   "file_extension": ".r",
   "mimetype": "text/x-r-source",
   "name": "R",
   "pygments_lexer": "r",
   "version": "3.4.0"
  }
 },
 "nbformat": 4,
 "nbformat_minor": 2
}
